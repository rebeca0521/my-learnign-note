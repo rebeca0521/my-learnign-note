{
 "cells": [
  {
   "cell_type": "code",
   "execution_count": 2,
   "metadata": {},
   "outputs": [],
   "source": [
    "class Solution:\n",
    "    def sortArray(self, nums):    \n",
    "        if len(nums)>=2:\n",
    "            i=0\n",
    "            j=0 \n",
    "            pivot = nums[len(nums)-1]\n",
    "            while j != (len(nums)-1):\n",
    "                if nums[j] >= pivot:\n",
    "                    j+=1\n",
    "                else:\n",
    "                    temp_i = nums[i]\n",
    "                    temp_j = nums[j]\n",
    "                    nums[i] = temp_j\n",
    "                    nums[j] = temp_i\n",
    "                    i+=1\n",
    "                    j+=1\n",
    "            temp_i = nums[i]\n",
    "            temp_j = nums[j]\n",
    "            nums[i] = temp_j\n",
    "            nums[j] = temp_i\n",
    "            return self.sortArray(nums[:i]) + [pivot] + self.sortArray(nums[(i+1):])\n",
    "        return nums"
   ]
  },
  {
   "cell_type": "code",
   "execution_count": 3,
   "metadata": {},
   "outputs": [],
   "source": [
    "A = Solution()"
   ]
  },
  {
   "cell_type": "code",
   "execution_count": 4,
   "metadata": {},
   "outputs": [
    {
     "data": {
      "text/plain": [
       "[0, 1, 3, 4, 5, 8, 9]"
      ]
     },
     "execution_count": 4,
     "metadata": {},
     "output_type": "execute_result"
    }
   ],
   "source": [
    "A.sortArray([5,8,9,4,1,0,3])"
   ]
  },
  {
   "cell_type": "code",
   "execution_count": null,
   "metadata": {},
   "outputs": [],
   "source": []
  }
 ],
 "metadata": {
  "kernelspec": {
   "display_name": "Python 3",
   "language": "python",
   "name": "python3"
  },
  "language_info": {
   "codemirror_mode": {
    "name": "ipython",
    "version": 3
   },
   "file_extension": ".py",
   "mimetype": "text/x-python",
   "name": "python",
   "nbconvert_exporter": "python",
   "pygments_lexer": "ipython3",
   "version": "3.7.3"
  }
 },
 "nbformat": 4,
 "nbformat_minor": 2
}
